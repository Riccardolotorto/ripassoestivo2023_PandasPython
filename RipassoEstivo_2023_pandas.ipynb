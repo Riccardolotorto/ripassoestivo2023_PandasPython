{
  "nbformat": 4,
  "nbformat_minor": 0,
  "metadata": {
    "colab": {
      "provenance": [],
      "collapsed_sections": [
        "sjY_JhpBYIJA"
      ],
      "authorship_tag": "ABX9TyNv8R7O3S7iAV9WgsuswC5t",
      "include_colab_link": true
    },
    "kernelspec": {
      "name": "python3",
      "display_name": "Python 3"
    },
    "language_info": {
      "name": "python"
    }
  },
  "cells": [
    {
      "cell_type": "markdown",
      "metadata": {
        "id": "view-in-github",
        "colab_type": "text"
      },
      "source": [
        "<a href=\"https://colab.research.google.com/github/Riccardolotorto/ripassoestivo2023_PandasPython/blob/main/RipassoEstivo_2023_pandas.ipynb\" target=\"_parent\"><img src=\"https://colab.research.google.com/assets/colab-badge.svg\" alt=\"Open In Colab\"/></a>"
      ]
    },
    {
      "cell_type": "markdown",
      "source": [
        "#pandas"
      ],
      "metadata": {
        "id": "sjY_JhpBYIJA"
      }
    },
    {
      "cell_type": "code",
      "execution_count": 1,
      "metadata": {
        "id": "Q5bkfGZSXuxK"
      },
      "outputs": [],
      "source": [
        "import pandas as pd"
      ]
    },
    {
      "cell_type": "code",
      "source": [
        "df = pd.read_csv('https://raw.githubusercontent.com/prasertcbs/basic-dataset/master/metacritic_games.csv')\n",
        "df"
      ],
      "metadata": {
        "id": "LyfBrwTWX2qH"
      },
      "execution_count": null,
      "outputs": []
    },
    {
      "cell_type": "code",
      "source": [
        "df.head()  #motra le prime 5 righe"
      ],
      "metadata": {
        "id": "GfHpbJaHX9ZE"
      },
      "execution_count": null,
      "outputs": []
    },
    {
      "cell_type": "code",
      "source": [
        "df.tail()  #mostra le ultime 5 righe"
      ],
      "metadata": {
        "id": "ZGZUGhV7YCEY"
      },
      "execution_count": null,
      "outputs": []
    },
    {
      "cell_type": "code",
      "source": [
        "df[:5]"
      ],
      "metadata": {
        "id": "_D7evKKWYLMo"
      },
      "execution_count": null,
      "outputs": []
    },
    {
      "cell_type": "code",
      "source": [
        "df[-5:]"
      ],
      "metadata": {
        "id": "YXf_NpLVYPby"
      },
      "execution_count": null,
      "outputs": []
    },
    {
      "cell_type": "code",
      "source": [
        "len(df)  #conto le righe del dataframe"
      ],
      "metadata": {
        "id": "k9xtB4KiYUwf"
      },
      "execution_count": null,
      "outputs": []
    },
    {
      "cell_type": "code",
      "source": [
        "df[['game', 'platform']]  #mostro solo queste due colonne del dataframe"
      ],
      "metadata": {
        "id": "3pNKnoU6YX8H"
      },
      "execution_count": null,
      "outputs": []
    },
    {
      "cell_type": "code",
      "source": [
        "df.loc[[10, 20, 30]] #mostro le righe 10, 20 e 30 (3 in tutto)"
      ],
      "metadata": {
        "id": "lgtT2bqgYhve"
      },
      "execution_count": null,
      "outputs": []
    },
    {
      "cell_type": "code",
      "source": [
        "df.positive_critics.sum() #faccio la somma dei dati di questa colonna"
      ],
      "metadata": {
        "id": "YhXg87KTY1Q7"
      },
      "execution_count": null,
      "outputs": []
    },
    {
      "cell_type": "code",
      "source": [
        "df[((len(df) // 2) - 5):((len(df) // 2) + 5)]  #mostro le 10 righe centrali"
      ],
      "metadata": {
        "id": "_3MCVQwGZCjh"
      },
      "execution_count": null,
      "outputs": []
    },
    {
      "cell_type": "markdown",
      "source": [
        "#esercizio"
      ],
      "metadata": {
        "id": "QeeGU5B6ZefI"
      }
    },
    {
      "cell_type": "code",
      "source": [
        "df"
      ],
      "metadata": {
        "id": "KlERI5j2Zfw-"
      },
      "execution_count": null,
      "outputs": []
    },
    {
      "cell_type": "markdown",
      "source": [
        "1. Mostrare tutti i giochi da una piattaforma scelta dall'utente"
      ],
      "metadata": {
        "id": "gAiI2VV7ZjCI"
      }
    },
    {
      "cell_type": "code",
      "source": [
        "df[df.platform == input('inserisci una piattaforma: ').upper()][['game']]"
      ],
      "metadata": {
        "id": "syIBxmsRZmVj"
      },
      "execution_count": null,
      "outputs": []
    },
    {
      "cell_type": "markdown",
      "source": [
        "2. Mostrare tutti i giochi pubblicati da un anno ad un'altro, Inseriti dell'utente."
      ],
      "metadata": {
        "id": "xfbbDCoUZ6Y2"
      }
    },
    {
      "cell_type": "code",
      "source": [
        "df['anno'] = df.release_date.str[8:].astype(int)   #creo una colonna prendendo una parte di stringa di un'altra colonna"
      ],
      "metadata": {
        "id": "qNaiFPVqZ8gL"
      },
      "execution_count": 22,
      "outputs": []
    },
    {
      "cell_type": "code",
      "source": [
        "inizio = int(input(\"inserisci un anno di partenza: \"))\n",
        "fine = int(input(\"inserisci un anno di fine: \"))\n",
        "df[(df.anno >= inizio) & (df.anno <= fine)][['game', 'anno']]"
      ],
      "metadata": {
        "id": "310E1PSnakie"
      },
      "execution_count": null,
      "outputs": []
    },
    {
      "cell_type": "markdown",
      "source": [
        "3. Visualizzare il gioco con la somma del metascore e dell'user score più alto."
      ],
      "metadata": {
        "id": "vqhlCm0fbDPD"
      }
    },
    {
      "cell_type": "code",
      "source": [
        "df['total_score'] = df.user_score + df.metascore  #creo una colonna facendo la somma tra i dati di altre due colonne"
      ],
      "metadata": {
        "id": "XQH9MtmdbGAM"
      },
      "execution_count": 27,
      "outputs": []
    },
    {
      "cell_type": "code",
      "source": [
        "df[df.total_score == df.total_score.max()][['game', 'total_score']]"
      ],
      "metadata": {
        "id": "9UJ4jF5BbUH3"
      },
      "execution_count": null,
      "outputs": []
    },
    {
      "cell_type": "markdown",
      "source": [
        "4. Il numero di giochi per ogni piattaforma."
      ],
      "metadata": {
        "id": "_TaKLfMGbd3H"
      }
    },
    {
      "cell_type": "code",
      "source": [
        "dfPiatt = df.groupby('platform')[['game']].count().sort_values(by='game', ascending = False).reset_index()\n",
        "dfPiatt"
      ],
      "metadata": {
        "id": "FzCKobF4cO2s"
      },
      "execution_count": null,
      "outputs": []
    },
    {
      "cell_type": "markdown",
      "source": [
        "5. Le piattaforme che hanno più di un certo numero di giochi, inserito dall'utente"
      ],
      "metadata": {
        "id": "43z-fqfUcyh1"
      }
    },
    {
      "cell_type": "code",
      "source": [
        "numero = int(input(\"inserisci un numero: \"))\n",
        "dfPiatt[dfPiatt.game >= numero][['platform']]"
      ],
      "metadata": {
        "id": "SmJ1iwGIc096"
      },
      "execution_count": null,
      "outputs": []
    },
    {
      "cell_type": "markdown",
      "source": [
        "6. Visualizzare due grafici (a torta e treemap) che rappresentano il numero di giochi per ogni piattaforma"
      ],
      "metadata": {
        "id": "jqRWPIzCdMva"
      }
    },
    {
      "cell_type": "code",
      "source": [
        "import matplotlib.pyplot as plt"
      ],
      "metadata": {
        "id": "SqOpsfdFdP9p"
      },
      "execution_count": 36,
      "outputs": []
    },
    {
      "cell_type": "code",
      "source": [
        "stringhe = dfPiatt.platform\n",
        "dati = dfPiatt.game\n",
        "\n",
        "plt.figure(figsize=(16, 8))\n",
        "plt.pie(dati, labels=stringhe, autopct=lambda p:  '{:.0f}'.format(p * (dati.sum()) / 100), shadow = True)\n",
        "plt.show()"
      ],
      "metadata": {
        "id": "4Qgfo14uds9X"
      },
      "execution_count": null,
      "outputs": []
    },
    {
      "cell_type": "code",
      "source": [
        "!pip install squarify"
      ],
      "metadata": {
        "id": "WgVB2lCpebP_"
      },
      "execution_count": null,
      "outputs": []
    },
    {
      "cell_type": "code",
      "source": [
        "import squarify\n",
        "stringhe = dfPiatt.platform\n",
        "dati = dfPiatt.game\n",
        "\n",
        "squarify.plot(sizes=dati, label=stringhe, alpha=.8)\n",
        "plt.axis('off')\n",
        "plt.show()"
      ],
      "metadata": {
        "id": "MYNdaEsUeZAk"
      },
      "execution_count": null,
      "outputs": []
    },
    {
      "cell_type": "markdown",
      "source": [
        "7. Visualizzare i giochi di un genere e una piattaforma scelta dall'utente"
      ],
      "metadata": {
        "id": "PWOJY6soev1S"
      }
    },
    {
      "cell_type": "code",
      "source": [
        "p = input(\"inserisci una piattaforma: \")\n",
        "genere = input(\"inserisci un genere: \")\n",
        "df[(df.platform == p.upper()) & (df.genre == genere.capitalize())][['game']]"
      ],
      "metadata": {
        "id": "cmxaSYdhexhc"
      },
      "execution_count": null,
      "outputs": []
    },
    {
      "cell_type": "markdown",
      "source": [
        "8. Visualizza la percentuale di giochi per genere per ogni piattaforma"
      ],
      "metadata": {
        "id": "C18wB798fSON"
      }
    },
    {
      "cell_type": "code",
      "source": [
        "dfGP = df.groupby(['genre', 'platform'])[['game']].count().sort_values(by='game', ascending = False).reset_index()\n",
        "dfGP['percentuale'] = (dfGP.game / dfGP.game.sum()) * 100\n",
        "dfGP"
      ],
      "metadata": {
        "id": "m4EDzt9hfSjF"
      },
      "execution_count": null,
      "outputs": []
    },
    {
      "cell_type": "markdown",
      "source": [
        "9. Visualizzare un grafico a torta che rappresenti i dati dell'esercizio 8"
      ],
      "metadata": {
        "id": "DtgAgwIggPWp"
      }
    },
    {
      "cell_type": "code",
      "source": [
        "dfGP['nomi'] = dfGP.genre + dfGP.platform\n",
        "stringhe = dfGP.nomi\n",
        "dati = dfGP.game\n",
        "\n",
        "\n",
        "x = [1] * len(dfGP)\n",
        "plt.figure(figsize=(20, 12))\n",
        "plt.pie(dati, labels=stringhe, explode = x, autopct='%1.1f%%')\n",
        "plt.show()"
      ],
      "metadata": {
        "id": "Ym1XGoTtgSi6"
      },
      "execution_count": null,
      "outputs": []
    }
  ]
}